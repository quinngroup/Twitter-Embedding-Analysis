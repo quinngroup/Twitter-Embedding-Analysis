{
 "cells": [
  {
   "cell_type": "code",
   "execution_count": 1,
   "metadata": {},
   "outputs": [],
   "source": [
    "import json\n",
    "import pandas as pd\n",
    "from pandas import DataFrame\n",
    "import nltk\n",
    "import re"
   ]
  },
  {
   "cell_type": "code",
   "execution_count": 2,
   "metadata": {},
   "outputs": [],
   "source": [
    "# these are testing methods, don't worry about them\n",
    "def json_print():\n",
    "    with open('tweets3506.json') as json_file:\n",
    "        data = json.load(json_file)\n",
    "        for x in range(0, 50):\n",
    "            print(data[x])"
   ]
  },
  {
   "cell_type": "code",
   "execution_count": 3,
   "metadata": {},
   "outputs": [],
   "source": [
    "def panda_json():\n",
    "    with open('tweets3506.json') as json_file:\n",
    "        pandaDf = json.load(json_file)\n",
    "    for element in pandaDf:\n",
    "        print(element['tweet_text'])\n"
   ]
  },
  {
   "cell_type": "code",
   "execution_count": 15,
   "metadata": {},
   "outputs": [],
   "source": [
    "def convert_data():\n",
    "    with open('../../twitter/tweets3506.json') as json_file:\n",
    "        df = pd.read_json(json_file)\n",
    "    data = df.to_csv('csv_file.csv', encoding='utf-8', index=False)\n",
    "    return data\n"
   ]
  },
  {
   "cell_type": "code",
   "execution_count": 16,
   "metadata": {},
   "outputs": [],
   "source": [
    "def preprocess(data):\n",
    "    replaceNoSpace = re.compile(\"(\\.)|(\\;)|(\\:)|(\\!)|(\\')|(\\?)|(\\,)|(\\\")|(\\()|(\\))|(\\[)|(\\])\")\n",
    "    replaceWithSpace = re.compile(\"(<br\\s*/><br\\s*/>)|(\\-)|(\\/)|(\\x97)\")\n",
    "\n",
    "    cleanData = [replaceNoSpace.sub(\"\", line.lower()) for line in data]\n",
    "    cleanData = [replaceWithSpace.sub(\" \", line) for line in data]\n",
    "\n",
    "    return cleanData"
   ]
  },
  {
   "cell_type": "code",
   "execution_count": null,
   "metadata": {},
   "outputs": [],
   "source": [
    "data = convert_data()"
   ]
  },
  {
   "cell_type": "code",
   "execution_count": null,
   "metadata": {},
   "outputs": [],
   "source": []
  }
 ],
 "metadata": {
  "kernelspec": {
   "display_name": "Python 3",
   "language": "python",
   "name": "python3"
  },
  "language_info": {
   "codemirror_mode": {
    "name": "ipython",
    "version": 3
   },
   "file_extension": ".py",
   "mimetype": "text/x-python",
   "name": "python",
   "nbconvert_exporter": "python",
   "pygments_lexer": "ipython3",
   "version": "3.6.5"
  }
 },
 "nbformat": 4,
 "nbformat_minor": 2
}

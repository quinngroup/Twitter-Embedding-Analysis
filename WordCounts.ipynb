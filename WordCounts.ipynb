{
 "cells": [
  {
   "cell_type": "code",
   "execution_count": 17,
   "metadata": {},
   "outputs": [
    {
     "name": "stdout",
     "output_type": "stream",
     "text": [
      "[nltk_data] Downloading package stopwords to\n",
      "[nltk_data]     /home/zanepage/nltk_data...\n",
      "[nltk_data]   Package stopwords is already up-to-date!\n",
      "[nltk_data] Downloading package punkt to /home/zanepage/nltk_data...\n",
      "[nltk_data]   Package punkt is already up-to-date!\n"
     ]
    },
    {
     "data": {
      "text/plain": [
       "True"
      ]
     },
     "execution_count": 17,
     "metadata": {},
     "output_type": "execute_result"
    }
   ],
   "source": [
    "import numpy as np\n",
    "from joblib import Parallel, delayed\n",
    "import csv, re, os, nltk, timeit\n",
    "from gensim.parsing.preprocessing import remove_stopwords, strip_punctuation, preprocess_string\n",
    "from itertools import combinations\n",
    "from collections import defaultdict\n",
    "from itertools import combinations\n",
    "from numba import jit\n",
    "import pandas as pd\n",
    "from nltk.corpus import stopwords\n",
    "from nltk.tokenize import word_tokenize\n",
    "nltk.download('stopwords')\n",
    "nltk.download('punkt')"
   ]
  },
  {
   "cell_type": "code",
   "execution_count": 18,
   "metadata": {},
   "outputs": [],
   "source": [
    "def load_corp(file):\n",
    "    ind = 0\n",
    "    data = []\n",
    "    with open(file) as f:\n",
    "        for line in f:\n",
    "            tweet = line.lower() # lowercase\n",
    "            \n",
    "            tweet = re.sub(r\"http\\S+\", \"\", tweet) # removes urls\n",
    "            tweet = re.sub(r\"@\\S+\",\"\",tweet)      # removes usernames\n",
    "            tweet = re.sub(r\"#\\S+\",\"\",tweet)      # removes hastags\n",
    "            tweet = re.sub('[\\W_]+',' ', tweet)   # removes various non-alphanumeric characters\n",
    "            tweet = re.sub(r\"rt\",\"\",tweet)        # removes retweet 'rt'\n",
    "            \n",
    "            stop_words = set(stopwords.words('english'))\n",
    "            word_tokens = word_tokenize(tweet)\n",
    "            filtered_sentence = [w for w in word_tokens if not w in stop_words] # removes stopwords\n",
    "            \n",
    "            \n",
    "            tweet = ' '.join(filtered_sentence)\n",
    "            # adds tweet to list\n",
    "            data.insert(ind,tweet)\n",
    "            ind+=1\n",
    "    data = list(filter(None, data)) # removes any empty entry\n",
    "    return data"
   ]
  },
  {
   "cell_type": "code",
   "execution_count": 28,
   "metadata": {},
   "outputs": [],
   "source": [
    "def counts(file, n, l=5):\n",
    "    print(\"loading\",file)\n",
    "    corp = load_corp(file)\n",
    "    print(\"loaded\", file)\n",
    "    wc = defaultdict(int)\n",
    "    wnd = defaultdict(int)\n",
    "    print(\"creaated wc, wnd\")\n",
    "    # increments values\n",
    "    for tweet in corp:\n",
    "        tweet = tweet.split()\n",
    "        opt = list(combinations(tweet,2))\n",
    "        \n",
    "        for i in range(len(tweet)):\n",
    "            wc[tweet[i]]+=1\n",
    "            if i < len(tweet) - 5:\n",
    "                a = tweet[i:i+5]\n",
    "\n",
    "                for j in range(len(opt)):\n",
    "                    wnd[opt[j]]+=1\n",
    "\n",
    "                    \n",
    "    wc = pd.DataFrame(wc, index=[0])\n",
    "    wnd = pd.DataFrame(wnd, index=[0])\n",
    "    wc = wc.T\n",
    "    wnd = wnd.T\n",
    "    \n",
    "    wc.to_csv(\"wc/wc\" + str(n) + \".csv\")\n",
    "    wnd.to_csv(\"wnd/wnd\" + str(n) + \".csv\")"
   ]
  },
  {
   "cell_type": "code",
   "execution_count": 29,
   "metadata": {},
   "outputs": [
    {
     "name": "stdout",
     "output_type": "stream",
     "text": [
      "loading test.txt\n",
      "loaded test.txt\n",
      "creaated wc, wnd\n"
     ]
    }
   ],
   "source": [
    "counts(\"test.txt\", 0)"
   ]
  },
  {
   "cell_type": "code",
   "execution_count": 20,
   "metadata": {},
   "outputs": [],
   "source": [
    "wc = pd.DataFrame()\n",
    "k = 0\n",
    "wc.to_csv(\"wc/wc\"+str(k)+\".csv\")"
   ]
  },
  {
   "cell_type": "code",
   "execution_count": null,
   "metadata": {},
   "outputs": [],
   "source": []
  },
  {
   "cell_type": "code",
   "execution_count": null,
   "metadata": {},
   "outputs": [],
   "source": []
  },
  {
   "cell_type": "code",
   "execution_count": null,
   "metadata": {},
   "outputs": [],
   "source": []
  },
  {
   "cell_type": "code",
   "execution_count": null,
   "metadata": {},
   "outputs": [],
   "source": []
  }
 ],
 "metadata": {
  "kernelspec": {
   "display_name": "Python 3",
   "language": "python",
   "name": "python3"
  },
  "language_info": {
   "codemirror_mode": {
    "name": "ipython",
    "version": 3
   },
   "file_extension": ".py",
   "mimetype": "text/x-python",
   "name": "python",
   "nbconvert_exporter": "python",
   "pygments_lexer": "ipython3",
   "version": "3.6.5"
  }
 },
 "nbformat": 4,
 "nbformat_minor": 2
}

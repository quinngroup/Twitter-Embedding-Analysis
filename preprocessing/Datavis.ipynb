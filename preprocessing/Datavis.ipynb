{
 "cells": [
  {
   "cell_type": "code",
   "execution_count": null,
   "metadata": {},
   "outputs": [],
   "source": [
    "import matplotlib\n",
    "import matplotlib.pyplot as plt\n",
    "import numpy as np\n",
    "import seaborn as sns\n",
    "import preprocessing\n",
    "import glob\n",
    "import operator\n",
    "import collections"
   ]
  },
  {
   "cell_type": "code",
   "execution_count": null,
   "metadata": {},
   "outputs": [],
   "source": [
    "file_list_now = preprocessing.get_data('../../../../data/twitterdata/')"
   ]
  },
  {
   "cell_type": "code",
   "execution_count": null,
   "metadata": {},
   "outputs": [],
   "source": [
    "##Don't Run Yet, Restructuring Preprocessing and this Makes the Notebook Too Large"
   ]
  },
  {
   "cell_type": "code",
   "execution_count": 1,
   "metadata": {},
   "outputs": [
    {
     "ename": "SyntaxError",
     "evalue": "unexpected character after line continuation character (<ipython-input-1-062e397d4fac>, line 27)",
     "output_type": "error",
     "traceback": [
      "\u001b[0;36m  File \u001b[0;32m\"<ipython-input-1-062e397d4fac>\"\u001b[0;36m, line \u001b[0;32m27\u001b[0m\n\u001b[0;31m    plt.title(\\\"Data Visualization of Uniformly Distributed Files\\\")\u001b[0m\n\u001b[0m                                                                    ^\u001b[0m\n\u001b[0;31mSyntaxError\u001b[0m\u001b[0;31m:\u001b[0m unexpected character after line continuation character\n"
     ]
    }
   ],
   "source": [
    "#for y in range(0, 5):\n",
    "    #D = {}\n",
    "    #for x in range(31469*y, 31469*y + 31469):\n",
    "        #for list in preprocessing.clean_dataframe(preprocessing.create_dataframe(file_list_now[x])):\n",
    "            #for word in list:\n",
    "                #if word not in D:\n",
    "                    #D[word] = 0\n",
    "                #D[word] += 1\n",
    "    \n",
    "    #sorted_D = sorted(D.items(), key=operator.itemgetter(1))\n",
    "    \n",
    "    #new_D = dict(sorted_D[-10:])\n",
    "    \n",
    "    #print(new_D)\n",
    "#Dictionary of datasets; keys are the terms and the # of appearances are the values\n",
    "    \n",
    "    #keys = new_D.keys()\n",
    "    #values = new_D.values()\n",
    "    \n",
    "#plt.bar(range(len(D)), D.values(), align='center')\n",
    "    #plt.bar(np.arange(len(keys)), values, align='center')\n",
    "    \n",
    "#plt.legend()\n",
    "    \n",
    "    #plt.xticks(ticks=range(len(new_D)), labels=new_D.keys())\n",
    "    \n",
    "    #plt.title(\"Data Visualization of Uniformly Distributed Files\")\n",
    "    #plt.xlabel(\"Terms\")\n",
    "    #plt.ylabel(\"Occurrences\")\n",
    "    \n",
    "#plt.tight_layout()\n",
    "    \n",
    "    #plt.show()"
   ]
  }
 ],
 "metadata": {
  "kernelspec": {
   "display_name": "Python 3",
   "language": "python",
   "name": "python3"
  },
  "language_info": {
   "codemirror_mode": {
    "name": "ipython",
    "version": 3
   },
   "file_extension": ".py",
   "mimetype": "text/x-python",
   "name": "python",
   "nbconvert_exporter": "python",
   "pygments_lexer": "ipython3",
   "version": "3.7.4"
  }
 },
 "nbformat": 4,
 "nbformat_minor": 2
}

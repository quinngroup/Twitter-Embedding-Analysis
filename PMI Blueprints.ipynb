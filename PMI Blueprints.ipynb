{
 "cells": [
  {
   "cell_type": "code",
   "execution_count": 35,
   "metadata": {},
   "outputs": [],
   "source": [
    "import numpy as np\n",
    "import pandas as pd\n",
    "import gensim as gn\n",
    "import json\n",
    "import os, re"
   ]
  },
  {
   "cell_type": "code",
   "execution_count": 139,
   "metadata": {},
   "outputs": [],
   "source": [
    "def create_dict(tweets):\n",
    "    dict = []\n",
    "    for i in range(len(tweets)):\n",
    "        tweet = tweets[i].split()\n",
    "        for j in range(len(tweet)):\n",
    "            if tweet[j] in dict:\n",
    "                continue\n",
    "            else:\n",
    "                dict.append(tweet[j])\n",
    "    return dict"
   ]
  },
  {
   "cell_type": "code",
   "execution_count": 140,
   "metadata": {},
   "outputs": [],
   "source": [
    "def format(file):\n",
    "    # formats saved twitter data into an array that can be used\n",
    "    tweets = []\n",
    "    with open(file) as fdata:\n",
    "        for line in fdata:\n",
    "            tweets.append(line)\n",
    "    return tweets"
   ]
  },
  {
   "cell_type": "code",
   "execution_count": 141,
   "metadata": {},
   "outputs": [],
   "source": [
    "tweets = format(\"../dicts/Time0.txt\")"
   ]
  },
  {
   "cell_type": "code",
   "execution_count": 142,
   "metadata": {},
   "outputs": [],
   "source": [
    "D = create_dict(tweets)"
   ]
  },
  {
   "cell_type": "code",
   "execution_count": 144,
   "metadata": {},
   "outputs": [
    {
     "data": {
      "text/plain": [
       "101815"
      ]
     },
     "execution_count": 144,
     "metadata": {},
     "output_type": "execute_result"
    }
   ],
   "source": [
    "len(D)"
   ]
  },
  {
   "cell_type": "code",
   "execution_count": 62,
   "metadata": {},
   "outputs": [],
   "source": [
    "def wd_count(word, voc):\n",
    "    count = 0\n",
    "    for i in range(len(voc)):\n",
    "        if word in voc[i]:\n",
    "            count+=1\n",
    "        else: continue\n",
    "    return count"
   ]
  },
  {
   "cell_type": "code",
   "execution_count": 133,
   "metadata": {},
   "outputs": [
    {
     "data": {
      "text/plain": [
       "69830"
      ]
     },
     "execution_count": 133,
     "metadata": {},
     "output_type": "execute_result"
    }
   ],
   "source": [
    "wd_count(\"Trump\", tweets)"
   ]
  },
  {
   "cell_type": "code",
   "execution_count": 129,
   "metadata": {},
   "outputs": [],
   "source": [
    "# gets the word count of a word, wd1, and another, wd2, and \n",
    "# counts the number of times they occur within a window size, L\n",
    "def wd_count_wnd(wd1, wd2, voc, l=5):\n",
    "    count = 0\n",
    "    for i in range(len(voc)):\n",
    "        if wd1 in voc[i]: \n",
    "            tweet = voc[i].split()\n",
    "            wd1_index = 0\n",
    "            # gets the index of wrd1 so that it can be used to sear\n",
    "            # the windows\n",
    "            for j in range(len(tweet)):\n",
    "                if tweet[j] == wd1:\n",
    "                    wd1_index = j\n",
    "            # case that if the tweet is too small for the entire\n",
    "            # window size to be search on either side\n",
    "            if wd1_index < l-1 and (len(tweet) - wd1_index) < l:\n",
    "                for j in range(0,wd1_index):\n",
    "                    if tweet[j] == wd2:\n",
    "                        count+=1\n",
    "                    else:\n",
    "                        continue\n",
    "                for j in range(wd1_index,len(tweet)):\n",
    "                    if tweet[j] == wd2:\n",
    "                        count+=1\n",
    "                    else:\n",
    "                        continue\n",
    "            # case where left side is too small for the entire\n",
    "            # window size to be searched\n",
    "            elif wd1_index < l-1:\n",
    "                for j in range(0,wd1_index):\n",
    "                    if tweet[j] == wd2:\n",
    "                        count+=1\n",
    "                    else:\n",
    "                        continue\n",
    "                for j in range(wd1_index,wd1_index+5):\n",
    "                    if tweet[j] == wd2:\n",
    "                        count+=1\n",
    "                    else:\n",
    "                        continue\n",
    "            # case where right side is too small for the entire \n",
    "            # window size to be searched\n",
    "            elif (len(tweet) - wd1_index) < l:\n",
    "                for j in range(wd1_index-5,wd1_index):\n",
    "                    if tweet[j] == wd2:\n",
    "                        count+=1\n",
    "                    else:\n",
    "                        continue\n",
    "                for j in range(wd1_index,len(tweet)):\n",
    "                    if tweet[j] == wd2:\n",
    "                        count+=1\n",
    "                    else:\n",
    "                        continue\n",
    "            # case where there is enough space for both window\n",
    "            # sizes to be search in entirety \n",
    "            else:\n",
    "                for j in range(wd1_index-5,wd1_index):\n",
    "                    if tweet[j] == wd2:\n",
    "                        count+=1\n",
    "                    else:\n",
    "                        continue               \n",
    "                for j in range(wd1_index,wd1_index+5):\n",
    "                    if tweet[j] == wd2:\n",
    "                        count+=1\n",
    "                    else:\n",
    "                        continue            \n",
    "    return count                        "
   ]
  },
  {
   "cell_type": "code",
   "execution_count": 134,
   "metadata": {},
   "outputs": [
    {
     "data": {
      "text/plain": [
       "15"
      ]
     },
     "execution_count": 134,
     "metadata": {},
     "output_type": "execute_result"
    }
   ],
   "source": [
    "wd_count_wnd(\"Trump\",\"lose\",tweets)"
   ]
  },
  {
   "cell_type": "code",
   "execution_count": null,
   "metadata": {},
   "outputs": [],
   "source": [
    "def create_pmi()"
   ]
  }
 ],
 "metadata": {
  "kernelspec": {
   "display_name": "Python 3",
   "language": "python",
   "name": "python3"
  },
  "language_info": {
   "codemirror_mode": {
    "name": "ipython",
    "version": 3
   },
   "file_extension": ".py",
   "mimetype": "text/x-python",
   "name": "python",
   "nbconvert_exporter": "python",
   "pygments_lexer": "ipython3",
   "version": "3.6.5"
  }
 },
 "nbformat": 4,
 "nbformat_minor": 2
}

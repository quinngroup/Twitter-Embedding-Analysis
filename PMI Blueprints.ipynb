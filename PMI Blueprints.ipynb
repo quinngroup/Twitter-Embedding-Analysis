{
 "cells": [
  {
   "cell_type": "code",
   "execution_count": 196,
   "metadata": {},
   "outputs": [],
   "source": [
    "import numpy as np\n",
    "import gensim as gn\n",
    "from gensim.parsing.preprocessing import remove_stopwords, strip_punctuation, preprocess_string\n",
    "from scipy.sparse import csc_matrix, save_npz\n",
    "import json\n",
    "import os, re, math\n",
    "import multiprocessing as mp\n",
    "import pandas as pd"
   ]
  },
  {
   "cell_type": "code",
   "execution_count": 109,
   "metadata": {},
   "outputs": [],
   "source": [
    "wc = load_dict(\"wc1.csv\")"
   ]
  },
  {
   "cell_type": "code",
   "execution_count": 110,
   "metadata": {},
   "outputs": [],
   "source": [
    "wnd = load_dict(\"wnd1.csv\")"
   ]
  },
  {
   "cell_type": "code",
   "execution_count": 108,
   "metadata": {},
   "outputs": [],
   "source": [
    "def load_dict(file):\n",
    "    data = {}\n",
    "    df = pd.read_csv(file)\n",
    "    data = df.to_dict()\n",
    "    return data"
   ]
  },
  {
   "cell_type": "code",
   "execution_count": 220,
   "metadata": {},
   "outputs": [],
   "source": [
    "def sum_dict(d):\n",
    "    s = 0\n",
    "    for key in d:\n",
    "        s = s + d[key][0]\n",
    "    return s\n",
    "\n",
    "def create_PPI(wc, wnd):\n",
    "    len_d = sum_dict(wc)\n",
    "    len_wc = len(wc)\n",
    "    PMI = csc_matrix((len_wc, len_wc),dtype=float) # scipy sparse matrix\n",
    "    for key, y_ind in enumerate(wc.keys()):\n",
    "        for key1, x_ind in enumerate(wc.keys()):\n",
    "            s = (key,key1)\n",
    "            try: \n",
    "                w = wnd[str(s)][0]\n",
    "                t = w * len_d\n",
    "                b = wc[key][0] * wc[key1][0]\n",
    "                fin = math.log(t/b)\n",
    "                PMI[x_ind, y_ind] = fin\n",
    "                print(\"PMI[\",x_ind,\",\",y_ind,\"] = \",fin)\n",
    "            except KeyError:\n",
    "                continue\n",
    "    return PMI"
   ]
  },
  {
   "cell_type": "code",
   "execution_count": null,
   "metadata": {},
   "outputs": [],
   "source": [
    "PMI = create_PMI(wc,wnd)"
   ]
  },
  {
   "cell_type": "code",
   "execution_count": null,
   "metadata": {},
   "outputs": [],
   "source": []
  }
 ],
 "metadata": {
  "kernelspec": {
   "display_name": "Python 3",
   "language": "python",
   "name": "python3"
  },
  "language_info": {
   "codemirror_mode": {
    "name": "ipython",
    "version": 3
   },
   "file_extension": ".py",
   "mimetype": "text/x-python",
   "name": "python",
   "nbconvert_exporter": "python",
   "pygments_lexer": "ipython3",
   "version": "3.6.5"
  }
 },
 "nbformat": 4,
 "nbformat_minor": 2
}

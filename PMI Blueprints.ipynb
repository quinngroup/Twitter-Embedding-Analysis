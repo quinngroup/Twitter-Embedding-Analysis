{
 "cells": [
  {
   "cell_type": "code",
   "execution_count": 1,
   "metadata": {},
   "outputs": [],
   "source": [
    "import numpy as np\n",
    "import gensim as gn\n",
    "from gensim.parsing.preprocessing import remove_stopwords, strip_punctuation, preprocess_string\n",
    "from scipy.sparse import csc_matrix, save_npz\n",
    "import json\n",
    "import os, re, math\n",
    "import multiprocessing as mp\n",
    "import pandas as pd"
   ]
  },
  {
   "cell_type": "code",
   "execution_count": 2,
   "metadata": {},
   "outputs": [],
   "source": [
    "wc = pd.read_csv(\"wc/wc1.csv\")\n",
    "wc = wc.T"
   ]
  },
  {
   "cell_type": "code",
   "execution_count": 3,
   "metadata": {},
   "outputs": [],
   "source": [
    "wnd = pd.read_csv(\"wnd/wnd1.csv\")"
   ]
  },
  {
   "cell_type": "code",
   "execution_count": null,
   "metadata": {},
   "outputs": [],
   "source": [
    "def sum_dict(d):\n",
    "    s = 0\n",
    "    for key in d:\n",
    "        s = s + d[key][0]\n",
    "    return s\n",
    "\n",
    "def create_PPI(wc, wnd):\n",
    "    len_d = sum_dict(wc)\n",
    "    len_wc = len(wc)\n",
    "    PMI = csc_matrix((len_wc, len_wc),dtype=float) # scipy sparse matrix\n",
    "    for key, y_ind in enumerate(wc.keys()):\n",
    "        for key1, x_ind in enumerate(wc.keys()):\n",
    "            s = (key,key1)\n",
    "            try: \n",
    "                w = wnd[str(s)][0]\n",
    "                t = w * len_d\n",
    "                b = wc[key][0] * wc[key1][0]\n",
    "                fin = math.log(t/b)\n",
    "                PMI[x_ind, y_ind] = fin\n",
    "                print(\"PMI[\",x_ind,\",\",y_ind,\"] = \",fin)\n",
    "            except KeyError:\n",
    "                print(\"Key Error:\", x_ind, y_ind)\n",
    "    return PMI"
   ]
  },
  {
   "cell_type": "code",
   "execution_count": null,
   "metadata": {},
   "outputs": [],
   "source": [
    "PMI = create_PMI(wc,wnd)"
   ]
  }
 ],
 "metadata": {
  "kernelspec": {
   "display_name": "Python 3",
   "language": "python",
   "name": "python3"
  },
  "language_info": {
   "codemirror_mode": {
    "name": "ipython",
    "version": 3
   },
   "file_extension": ".py",
   "mimetype": "text/x-python",
   "name": "python",
   "nbconvert_exporter": "python",
   "pygments_lexer": "ipython3",
   "version": "3.6.5"
  }
 },
 "nbformat": 4,
 "nbformat_minor": 2
}

{
 "cells": [
  {
   "cell_type": "code",
   "execution_count": 144,
   "metadata": {},
   "outputs": [],
   "source": [
    "import numpy as np\n",
    "import gensim as gn\n",
    "from gensim.parsing.preprocessing import remove_stopwords, strip_punctuation, preprocess_string\n",
    "from scipy.sparse import csc_matrix, save_npz, lil_matrix\n",
    "import json\n",
    "import os, re, math\n",
    "import multiprocessing as mp\n",
    "import pandas as pd"
   ]
  },
  {
   "cell_type": "code",
   "execution_count": 145,
   "metadata": {},
   "outputs": [],
   "source": [
    "wc = pd.read_csv(\"wc/wc0.csv\")\n",
    "wc.columns = {\"words\", \"counts\"}"
   ]
  },
  {
   "cell_type": "code",
   "execution_count": 146,
   "metadata": {},
   "outputs": [],
   "source": [
    "wnd = pd.read_csv(\"wnd/wnd0.csv\")\n",
    "wnd.columns = {\"word1\", \"word2\", \"count\"}\n",
    "wnd.rename(columns={\"count\": \"word1\", \"word1\": \"word2\", \"word2\":\"counts\"}, inplace=True)"
   ]
  },
  {
   "cell_type": "code",
   "execution_count": 153,
   "metadata": {},
   "outputs": [],
   "source": [
    "def sum_dict(d):\n",
    "    # Finds the total word count\n",
    "    s = 0\n",
    "    for i in range(len(d[\"words\"])):\n",
    "        s = s + d[\"counts\"][i]\n",
    "        # print(d[\"counts\"][i])\n",
    "    return s\n",
    "\n",
    "\n",
    "def create_PMI(wc, wnd):\n",
    "    \"\"\"\n",
    "    Creates PMI matrix based on inputed wc and wnd\n",
    "    \n",
    "    Parameters:\n",
    "    wc - word count dataframe\n",
    "    wnd - window count dataframe\n",
    "    \n",
    "    Output:\n",
    "    A PMI matrix\n",
    "    \"\"\"\n",
    "    len_d = sum_dict(wc) # gets number of words\n",
    "    \n",
    "    len_wc = len(wc) # cut down a little on run time by only calculating value once\n",
    "    print(len_wc)\n",
    "    PMI = csc_matrix((len_wc, len_wc),dtype=float) # scipy sparse matrix\n",
    "    print(\"created csc_matrix\")\n",
    "    print(PMI.shape)\n",
    "    for x in range(len_wc):\n",
    "        for y in range(len_wc):\n",
    "            try: # attempts to add element to PMI matrix \n",
    "                wnd_value_count = wnd[wnd.word1==wc[\"words\"][y]][wnd.word2==wc[\"words\"][x]][\"counts\"]\n",
    "                \n",
    "                print(\"wnd count found\")\n",
    "                \n",
    "                t = wnd_value_count * len_d\n",
    "                b = wc[\"counts\"][y] * wc[\"counts\"][x]\n",
    "                arr = [t/b]\n",
    "                fin = np.log(arr)\n",
    "                print(fin)\n",
    "                PMI[x, y] = fin # final value is added to PMI\n",
    "                print(\"PMI[\"+str(wc[\"words\"][y])+\",\"+str(wc[\"words\"][x])+\"] = \"+str(fin)) # error checking\n",
    "            except KeyError: # if element is not in wnd then it can be ignored\n",
    "                print(\"Key Error:\", y, x)\n",
    "    save_npz(\"../matrices/PMI0.npz\", PMI)\n",
    "    return PMI\n"
   ]
  },
  {
   "cell_type": "code",
   "execution_count": null,
   "metadata": {},
   "outputs": [
    {
     "name": "stdout",
     "output_type": "stream",
     "text": [
      "246314\n",
      "created csc_matrix\n",
      "(246314, 246314)\n"
     ]
    },
    {
     "name": "stderr",
     "output_type": "stream",
     "text": [
      "/home/zanepage/anaconda3/lib/python3.6/site-packages/ipykernel_launcher.py:31: UserWarning: Boolean Series key will be reindexed to match DataFrame index.\n"
     ]
    }
   ],
   "source": [
    "PMI = create_PMI(wc, wnd)"
   ]
  },
  {
   "cell_type": "code",
   "execution_count": null,
   "metadata": {},
   "outputs": [],
   "source": []
  }
 ],
 "metadata": {
  "kernelspec": {
   "display_name": "Python 3",
   "language": "python",
   "name": "python3"
  },
  "language_info": {
   "codemirror_mode": {
    "name": "ipython",
    "version": 3
   },
   "file_extension": ".py",
   "mimetype": "text/x-python",
   "name": "python",
   "nbconvert_exporter": "python",
   "pygments_lexer": "ipython3",
   "version": "3.6.5"
  }
 },
 "nbformat": 4,
 "nbformat_minor": 2
}

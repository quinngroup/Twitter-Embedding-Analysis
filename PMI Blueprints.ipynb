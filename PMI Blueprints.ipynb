{
 "cells": [
  {
   "cell_type": "code",
   "execution_count": 61,
   "metadata": {},
   "outputs": [],
   "source": [
    "import numpy as np\n",
    "import gensim as gn\n",
    "from gensim.parsing.preprocessing import remove_stopwords, strip_punctuation, preprocess_string\n",
    "from scipy.sparse import lil_matrix, save_npz\n",
    "import json\n",
    "import os, re, math\n",
    "import multiprocessing as mp"
   ]
  },
  {
   "cell_type": "code",
   "execution_count": 62,
   "metadata": {},
   "outputs": [],
   "source": [
    "def load_voc():\n",
    "    with open(\"voc.json\",\"r\") as js:\n",
    "        data = json.load(js);\n",
    "        res = dict((v,k) for k,v in data.items())\n",
    "    return res\n",
    "\n",
    "def load_corp(file):\n",
    "    ind = 0\n",
    "    data = []\n",
    "    with open(\"../dicts/\"+file) as f:\n",
    "        for line in f:\n",
    "            words = line.split()\n",
    "\n",
    "            # removes usernames from the list\n",
    "            for word in words:\n",
    "                if re.match(r'^@',word):\n",
    "                    words.remove(word)\n",
    "\n",
    "            line = ' '.join(words)\n",
    "\n",
    "            # gensim preproceesing...\n",
    "            # makes lowercase, strips punctuation, and removes stopwords\n",
    "            CUSTOM_FILTERS = [lambda x: x.lower(), remove_stopwords]\n",
    "            words = preprocess_string(line,CUSTOM_FILTERS)\n",
    "\n",
    "            # removes usernames from the list\n",
    "            for word in words:\n",
    "                if re.match(r'^@',word):\n",
    "                    words.remove(word)\n",
    "\n",
    "            # removes RT from the begining of retweets\n",
    "            if \"rt\" in words:\n",
    "                words.remove(\"rt\")\n",
    "\n",
    "            # removes urls from the list\n",
    "            for word in words:\n",
    "                if re.match(r'^http',word):\n",
    "                    words.remove(word)\n",
    "\n",
    "            line = ' '.join(words)\n",
    "                    \n",
    "            # adds tweet to list\n",
    "            data.insert(ind,line)\n",
    "            ind+=1\n",
    "    return data"
   ]
  },
  {
   "cell_type": "code",
   "execution_count": 63,
   "metadata": {},
   "outputs": [],
   "source": [
    "def wd_count(word, corp):\n",
    "    count = 0\n",
    "    for i in range(len(corp)):\n",
    "        if word in corp[i]:\n",
    "            count+=1\n",
    "    return count\n",
    "\n",
    "# gets the word count of a word, wd1, and another, wd2, and \n",
    "# counts the number of times they occur within a window size, L\n",
    "def wd_count_wnd(wd1, wd2, corp, l=5):\n",
    "    count = 0\n",
    "    for i in range(len(corp)):\n",
    "        if wd1 in corp[i]: \n",
    "            tweet = corp[i].split()\n",
    "            wd1_index = 0\n",
    "            # gets the index of wrd1 so that it can be used to search\n",
    "            # the windows\n",
    "            for j in range(len(tweet)):\n",
    "                if tweet[j] == wd1:\n",
    "                    wd1_index = j\n",
    "            # case that if the tweet is too small for the entire\n",
    "            # window size to be search on either side\n",
    "            if wd1_index < l and (len(tweet) - wd1_index) < l:\n",
    "                for j in range(0,wd1_index):\n",
    "                    if tweet[j] == wd2:\n",
    "                        count+=1\n",
    "                    else:\n",
    "                        continue\n",
    "                for j in range(wd1_index,len(tweet)):\n",
    "                    if tweet[j] == wd2:\n",
    "                        count+=1\n",
    "                    else:\n",
    "                        continue\n",
    "            # case where left side is too small for the entire\n",
    "            # window size to be searched\n",
    "            elif wd1_index < l:\n",
    "                for j in range(0,wd1_index):\n",
    "                    if tweet[j] == wd2:\n",
    "                        count+=1\n",
    "                    else:\n",
    "                        continue\n",
    "                for j in range(wd1_index,wd1_index+5):\n",
    "                    if tweet[j] == wd2:\n",
    "                        count+=1\n",
    "                    else:\n",
    "                        continue\n",
    "            # case where right side is too small for the entire \n",
    "            # window size to be searched\n",
    "            elif (len(tweet) - wd1_index) < l:\n",
    "                for j in range(wd1_index-5,wd1_index):\n",
    "                    if tweet[j] == wd2:\n",
    "                        count+=1\n",
    "                    else:\n",
    "                        continue\n",
    "                for j in range(wd1_index,len(tweet)):\n",
    "                    if tweet[j] == wd2:\n",
    "                        count+=1\n",
    "                    else:\n",
    "                        continue\n",
    "            # case where there is enough space for both window\n",
    "            # sizes to be search in entirety \n",
    "            else:\n",
    "                for j in range(wd1_index-5,wd1_index):\n",
    "                    if tweet[j] == wd2:\n",
    "                        count+=1\n",
    "                    else:\n",
    "                        continue               \n",
    "                for j in range(wd1_index,wd1_index+5):\n",
    "                    if tweet[j] == wd2:\n",
    "                        count+=1\n",
    "                    else:\n",
    "                        continue            \n",
    "    return count"
   ]
  },
  {
   "cell_type": "code",
   "execution_count": 64,
   "metadata": {},
   "outputs": [],
   "source": [
    "def create_PPMI(voc,corp):\n",
    "    len_voc = len(voc)\n",
    "    PMI = lil_matrix((len_voc, len_voc)) # scipy sparse matrix\n",
    "\n",
    "    for i in range(0,len_voc):\n",
    "        for j in range(0,len_voc):\n",
    "            wd1_cnt = wd_count(voc[i],corp) # word 1 count \n",
    "            wd2_cnt = wd_count(voc[j],corp) # word 2 cout\n",
    "            wnd_cnt = wd_count_wnd(voc[i],voc[j],corp,5) # window count\n",
    "            \n",
    "            top = wnd_cnt * len_voc\n",
    "            bot = wd1_cnt * wd2_cnt\n",
    "            \n",
    "            \n",
    "            # One of the words may not occur in the corpus\n",
    "            # if thats so then we can ignore the value because \n",
    "            # it will be 0\n",
    "            if wd1_cnt > 0 and wd2_cnt > 0:\n",
    "                res = math.log(top/bot) \n",
    "            \n",
    "                print(\"added: PMI[\"+voc[i]+\",\"+voc[j]+\"] = \",res)\n",
    "                PMI[i,j] = res\n",
    " \n",
    "    save_npz(\"2018-01-22.npz\", PMI) # saves matrix \n",
    "            \n",
    "    return PMI"
   ]
  },
  {
   "cell_type": "code",
   "execution_count": 54,
   "metadata": {},
   "outputs": [
    {
     "name": "stdout",
     "output_type": "stream",
     "text": [
      "vocabulary loaded\n"
     ]
    }
   ],
   "source": [
    "voc = load_voc()\n",
    "print(\"vocabulary loaded\")\n",
    "len_voc = len(voc)"
   ]
  },
  {
   "cell_type": "code",
   "execution_count": 55,
   "metadata": {},
   "outputs": [
    {
     "name": "stdout",
     "output_type": "stream",
     "text": [
      "corpus loaded\n"
     ]
    }
   ],
   "source": [
    "corp = load_corp(\"../dicts/2018-01-22.txt\")\n",
    "print(\"corpus loaded\")"
   ]
  },
  {
   "cell_type": "code",
   "execution_count": 65,
   "metadata": {},
   "outputs": [
    {
     "name": "stdout",
     "output_type": "stream",
     "text": [
      "added: PMI[conservatives,conservatives] =  7.112964242690993\n",
      "added: PMI[conservatives,shadow] =  0.29651243734945554\n",
      "added: PMI[conservatives,banned] =  -1.2737650509535574\n",
      "added: PMI[conservatives,again.] =  -1.178861005549984\n",
      "added: PMI[conservatives,twitter] =  2.245684903414734\n",
      "added: PMI[conservatives,removing] =  0.26239154165302636\n",
      "added: PMI[conservatives,followers.] =  -1.253605595607614\n",
      "added: PMI[conservatives,them.] =  0.4780835351996729\n",
      "added: PMI[conservatives,i'm] =  0.399134604727471\n",
      "added: PMI[conservatives,get…rt] =  -0.48428279254760204\n",
      "added: PMI[conservatives,it’s] =  1.1791193984534323\n",
      "added: PMI[conservatives,shark] =  -2.289883535955954\n",
      "added: PMI[conservatives,week!] =  0.022402574301418638\n",
      "added: PMI[conservatives,day] =  -1.5067043681920649\n",
      "added: PMI[conservatives,10] =  -1.0979434204006548\n",
      "added: PMI[conservatives,ending] =  -1.2430288725576089\n"
     ]
    },
    {
     "ename": "ValueError",
     "evalue": "math domain error",
     "output_type": "error",
     "traceback": [
      "\u001b[0;31m---------------------------------------------------------------------------\u001b[0m",
      "\u001b[0;31mValueError\u001b[0m                                Traceback (most recent call last)",
      "\u001b[0;32m<ipython-input-65-ab76a7a50191>\u001b[0m in \u001b[0;36m<module>\u001b[0;34m()\u001b[0m\n\u001b[0;32m----> 1\u001b[0;31m \u001b[0mpmi\u001b[0m \u001b[0;34m=\u001b[0m \u001b[0mcreate_PPMI\u001b[0m\u001b[0;34m(\u001b[0m\u001b[0mvoc\u001b[0m\u001b[0;34m,\u001b[0m\u001b[0mcorp\u001b[0m\u001b[0;34m)\u001b[0m\u001b[0;34m\u001b[0m\u001b[0m\n\u001b[0m",
      "\u001b[0;32m<ipython-input-64-ff39d659cdad>\u001b[0m in \u001b[0;36mcreate_PPMI\u001b[0;34m(voc, corp)\u001b[0m\n\u001b[1;32m     17\u001b[0m             \u001b[0;31m# it will be 0\u001b[0m\u001b[0;34m\u001b[0m\u001b[0;34m\u001b[0m\u001b[0m\n\u001b[1;32m     18\u001b[0m             \u001b[0;32mif\u001b[0m \u001b[0mwd1_cnt\u001b[0m \u001b[0;34m>\u001b[0m \u001b[0;36m0\u001b[0m \u001b[0;32mand\u001b[0m \u001b[0mwd2_cnt\u001b[0m \u001b[0;34m>\u001b[0m \u001b[0;36m0\u001b[0m\u001b[0;34m:\u001b[0m\u001b[0;34m\u001b[0m\u001b[0m\n\u001b[0;32m---> 19\u001b[0;31m                 \u001b[0mres\u001b[0m \u001b[0;34m=\u001b[0m \u001b[0mmath\u001b[0m\u001b[0;34m.\u001b[0m\u001b[0mlog\u001b[0m\u001b[0;34m(\u001b[0m\u001b[0mtop\u001b[0m\u001b[0;34m/\u001b[0m\u001b[0mbot\u001b[0m\u001b[0;34m)\u001b[0m\u001b[0;34m\u001b[0m\u001b[0m\n\u001b[0m\u001b[1;32m     20\u001b[0m \u001b[0;34m\u001b[0m\u001b[0m\n\u001b[1;32m     21\u001b[0m                 \u001b[0mprint\u001b[0m\u001b[0;34m(\u001b[0m\u001b[0;34m\"added: PMI[\"\u001b[0m\u001b[0;34m+\u001b[0m\u001b[0mvoc\u001b[0m\u001b[0;34m[\u001b[0m\u001b[0mi\u001b[0m\u001b[0;34m]\u001b[0m\u001b[0;34m+\u001b[0m\u001b[0;34m\",\"\u001b[0m\u001b[0;34m+\u001b[0m\u001b[0mvoc\u001b[0m\u001b[0;34m[\u001b[0m\u001b[0mj\u001b[0m\u001b[0;34m]\u001b[0m\u001b[0;34m+\u001b[0m\u001b[0;34m\"] = \"\u001b[0m\u001b[0;34m,\u001b[0m\u001b[0mres\u001b[0m\u001b[0;34m)\u001b[0m\u001b[0;34m\u001b[0m\u001b[0m\n",
      "\u001b[0;31mValueError\u001b[0m: math domain error"
     ]
    }
   ],
   "source": [
    "pmi = create_PPMI(voc,corp)"
   ]
  },
  {
   "cell_type": "code",
   "execution_count": null,
   "metadata": {},
   "outputs": [],
   "source": []
  }
 ],
 "metadata": {
  "kernelspec": {
   "display_name": "Python 3",
   "language": "python",
   "name": "python3"
  },
  "language_info": {
   "codemirror_mode": {
    "name": "ipython",
    "version": 3
   },
   "file_extension": ".py",
   "mimetype": "text/x-python",
   "name": "python",
   "nbconvert_exporter": "python",
   "pygments_lexer": "ipython3",
   "version": "3.6.5"
  }
 },
 "nbformat": 4,
 "nbformat_minor": 2
}

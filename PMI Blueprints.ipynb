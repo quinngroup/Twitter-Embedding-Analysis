{
 "cells": [
  {
   "cell_type": "code",
   "execution_count": 86,
   "metadata": {},
   "outputs": [],
   "source": [
    "import numpy as np\n",
    "import gensim as gn\n",
    "from gensim.parsing.preprocessing import remove_stopwords, strip_punctuation, preprocess_string\n",
    "from scipy.sparse import csc_matrix, save_npz, lil_matrix\n",
    "import json\n",
    "import os, re, math\n",
    "import multiprocessing as mp\n",
    "import pandas as pd"
   ]
  },
  {
   "cell_type": "code",
   "execution_count": 2,
   "metadata": {},
   "outputs": [],
   "source": [
    "wc = pd.read_csv(\"wc/wc0.csv\")\n",
    "wc.columns = {\"words\", \"counts\"}"
   ]
  },
  {
   "cell_type": "code",
   "execution_count": 3,
   "metadata": {},
   "outputs": [],
   "source": [
    "wnd = pd.read_csv(\"wnd/wnd0.csv\")\n",
    "wnd.columns = {\"word1\", \"word2\", \"count\"}\n",
    "wnd.rename(columns={\"count\": \"word1\", \"word1\": \"word2\", \"word2\":\"counts\"}, inplace=True)"
   ]
  },
  {
   "cell_type": "code",
   "execution_count": 94,
   "metadata": {},
   "outputs": [],
   "source": [
    "def sum_dict(d):\n",
    "    # Finds the total word count\n",
    "    s = 0\n",
    "    for i in range(len(d[\"words\"])):\n",
    "        s = s + d[\"counts\"][i]\n",
    "        # print(d[\"counts\"][i])\n",
    "    return s\n",
    "\n",
    "def get_count(wnd, word1, word2):\n",
    "    \"\"\"\n",
    "    Parameters:\n",
    "    wnd - window count dataframe\n",
    "    word1 - word currently looking for\n",
    "    word2 - word currently looking for\n",
    "    \n",
    "    Output:\n",
    "    the window count value for word1 and word2\n",
    "    \"\"\"\n",
    "    count = 0\n",
    "    for i in range(0,len(wnd)):\n",
    "        #print(\"wnd[word1][i] \" + wnd[\"word1\"][i] + \" wnd[word1][i]: \" + wnd[\"word2\"][i])\n",
    "        if wnd[\"word1\"][i] == word1 and wnd[\"word2\"][i] == word2:\n",
    "            count = wnd[\"counts\"][i]\n",
    "            return count\n",
    "\n",
    "def create_PMI(wc, wnd):\n",
    "    \"\"\"\n",
    "    Creates PMI matrix based on inputed wc and wnd\n",
    "    \n",
    "    Parameters:\n",
    "    wc - word count dataframe\n",
    "    wnd - window count dataframe\n",
    "    \n",
    "    Output:\n",
    "    A PMI matrix\n",
    "    \"\"\"\n",
    "    len_d = sum_dict(wc) # gets number of words\n",
    "    \n",
    "    len_wc = len(wc) # cut down a little on run time by only calculating value once\n",
    "    \n",
    "    PMI = lil_matrix((len_wc, len_wc),dtype=float) # scipy sparse matrix\n",
    "    #print(\"created lil_matrix\")\n",
    "    \n",
    "    for x in range(len_wc):\n",
    "        for y in range(len_wc):\n",
    "            try: # attempts to add element to PMI matrix \n",
    "                wnd_value_count = get_count(wnd,wc[\"words\"][y],wc[\"words\"][x])\n",
    "                #print(\"wnd count found\")\n",
    "                \n",
    "                t = wnd_value_count * len_d\n",
    "                b = wc[\"counts\"][y] * wc[\"counts\"][x]\n",
    "                fin = math.log(t/b)\n",
    "                PMI[x, y] = fin # final value is added to PMI\n",
    "                \n",
    "                print(\"PMI[\"+str(wc[\"words\"][y])+\",\"+str(wc[\"words\"][x])+\"] = \"+str(fin)) # error checking\n",
    "            except KeyError: # if element is not in wnd then it can be ignored\n",
    "                print(\"Key Error:\", y, x)\n",
    "    return PMI"
   ]
  },
  {
   "cell_type": "code",
   "execution_count": null,
   "metadata": {},
   "outputs": [
    {
     "name": "stdout",
     "output_type": "stream",
     "text": [
      "PMI[conservatives,conservatives] = 8.5810880287913\n",
      "PMI[shadow,conservatives] = 9.813627323760041\n",
      "PMI[banned,conservatives] = 8.549664295268514\n",
      "PMI[twitter,conservatives] = 9.23074712896903\n"
     ]
    }
   ],
   "source": [
    "PMI = create_PMI(wc, wnd)"
   ]
  },
  {
   "cell_type": "code",
   "execution_count": null,
   "metadata": {},
   "outputs": [],
   "source": []
  }
 ],
 "metadata": {
  "kernelspec": {
   "display_name": "Python 3",
   "language": "python",
   "name": "python3"
  },
  "language_info": {
   "codemirror_mode": {
    "name": "ipython",
    "version": 3
   },
   "file_extension": ".py",
   "mimetype": "text/x-python",
   "name": "python",
   "nbconvert_exporter": "python",
   "pygments_lexer": "ipython3",
   "version": "3.6.5"
  }
 },
 "nbformat": 4,
 "nbformat_minor": 2
}

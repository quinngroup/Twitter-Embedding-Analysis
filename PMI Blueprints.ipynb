{
 "cells": [
  {
   "cell_type": "code",
   "execution_count": 86,
   "metadata": {},
   "outputs": [],
   "source": [
    "import numpy as np\n",
    "import gensim as gn\n",
    "from gensim.parsing.preprocessing import remove_stopwords, strip_punctuation, preprocess_string\n",
    "from scipy.sparse import csc_matrix, save_npz, lil_matrix\n",
    "import json\n",
    "import os, re, math\n",
    "import multiprocessing as mp\n",
    "import pandas as pd"
   ]
  },
  {
   "cell_type": "code",
   "execution_count": 2,
   "metadata": {},
   "outputs": [],
   "source": [
    "wc = pd.read_csv(\"wc/wc0.csv\")\n",
    "wc.columns = {\"words\", \"counts\"}"
   ]
  },
  {
   "cell_type": "code",
   "execution_count": 3,
   "metadata": {},
   "outputs": [],
   "source": [
    "wnd = pd.read_csv(\"wnd/wnd0.csv\")\n",
    "wnd.columns = {\"word1\", \"word2\", \"count\"}\n",
    "wnd.rename(columns={\"count\": \"word1\", \"word1\": \"word2\", \"word2\":\"counts\"}, inplace=True)"
   ]
  },
  {
   "cell_type": "code",
   "execution_count": 99,
   "metadata": {},
   "outputs": [],
   "source": [
    "def sum_dict(d):\n",
    "    # Finds the total word count\n",
    "    s = 0\n",
    "    for i in range(len(d[\"words\"])):\n",
    "        s = s + d[\"counts\"][i]\n",
    "        # print(d[\"counts\"][i])\n",
    "    return s\n",
    "\n",
    "def get_count(wnd, word1, word2):\n",
    "    \"\"\"\n",
    "    Parameters:\n",
    "    wnd - window count dataframe\n",
    "    word1 - word currently looking for\n",
    "    word2 - word currently looking for\n",
    "    \n",
    "    Output:\n",
    "    the window count value for word1 and word2\n",
    "    \"\"\"\n",
    "    count = 0\n",
    "    for i in range(0,len(wnd)):\n",
    "        #print(\"wnd[word1][i] \" + wnd[\"word1\"][i] + \" wnd[word1][i]: \" + wnd[\"word2\"][i])\n",
    "        if word1 == word2:\n",
    "            retu\n",
    "        if wnd[\"word1\"][i] == word1 and wnd[\"word2\"][i] == word2:\n",
    "            count = wnd[\"counts\"][i]\n",
    "            return count\n",
    "        else:\n",
    "            # return something\n",
    "    return count\n",
    "\n",
    "def create_PMI(wc, wnd):\n",
    "    \"\"\"\n",
    "    Creates PMI matrix based on inputed wc and wnd\n",
    "    \n",
    "    Parameters:\n",
    "    wc - word count dataframe\n",
    "    wnd - window count dataframe\n",
    "    \n",
    "    Output:\n",
    "    A PMI matrix\n",
    "    \"\"\"\n",
    "    len_d = sum_dict(wc) # gets number of words\n",
    "    \n",
    "    len_wc = len(wc) # cut down a little on run time by only calculating value once\n",
    "    \n",
    "    PMI = csc_matrix((len_wc, len_wc),dtype=float) # scipy sparse matrix\n",
    "    #print(\"created csc_matrix\")\n",
    "    \n",
    "    for x in range(len_wc):\n",
    "        for y in range(len_wc):\n",
    "            try: # attempts to add element to PMI matrix \n",
    "                wnd_value_count = get_count(wnd,wc[\"words\"][y],wc[\"words\"][x])\n",
    "                #print(\"wnd count found\")\n",
    "                \n",
    "                t = wnd_value_count * len_d\n",
    "                b = wc[\"counts\"][y] * wc[\"counts\"][x]\n",
    "                fin = math.log(t/b)\n",
    "                PMI[x, y] = fin # final value is added to PMI\n",
    "                print(\"PMI[\"+str(wc[\"words\"][y])+\",\"+str(wc[\"words\"][x])+\"] = \"+str(fin)) # error checking\n",
    "            except KeyError: # if element is not in wnd then it can be ignored\n",
    "                print(\"Key Error:\", y, x)\n",
    "    save_npz(\"../matrices/PMI0.npz\", PMI)\n",
    "    return PMI\n"
   ]
  },
  {
   "cell_type": "code",
   "execution_count": 101,
   "metadata": {},
   "outputs": [
    {
     "name": "stderr",
     "output_type": "stream",
     "text": [
      "/home/zanepage/anaconda3/lib/python3.6/site-packages/scipy/sparse/compressed.py:746: SparseEfficiencyWarning: Changing the sparsity structure of a csc_matrix is expensive. lil_matrix is more efficient.\n",
      "  SparseEfficiencyWarning)\n"
     ]
    },
    {
     "name": "stdout",
     "output_type": "stream",
     "text": [
      "PMI[conservatives,conservatives] = 8.5810880287913\n",
      "PMI[shadow,conservatives] = 9.813627323760041\n",
      "PMI[banned,conservatives] = 8.549664295268514\n",
      "PMI[twitter,conservatives] = 9.23074712896903\n",
      "PMI[removing,conservatives] = 8.010378311340009\n",
      "PMI[followers,conservatives] = 7.921994053243468\n",
      "PMI[might,conservatives] = 8.08114500373814\n",
      "PMI[one,conservatives] = 8.310449494393026\n",
      "PMI[really,conservatives] = 8.159796838152882\n",
      "PMI[get,conservatives] = 8.084767889753337\n",
      "PMI[shark,conservatives] = 8.372317763465954\n",
      "PMI[week,conservatives] = 8.020229725305047\n",
      "PMI[day,conservatives] = 8.098240801899271\n",
      "PMI[10,conservatives] = 8.145066796231298\n",
      "PMI[never,conservatives] = 8.005374861273756\n",
      "PMI[ending,conservatives] = 7.5641815075508525\n",
      "PMI[nights,conservatives] = 8.257859360116264\n",
      "PMI[trump,conservatives] = 8.113478916053744\n",
      "PMI[protests,conservatives] = 7.390076170590117\n",
      "PMI[kremlin,conservatives] = 8.267814346750157\n",
      "PMI[annex,conservatives] = 7.9812570603657305\n",
      "PMI[1600,conservatives] = 8.756608077206968\n",
      "PMI[pennsylvania,conservatives] = 7.979412230129759\n",
      "PMI[rain,conservatives] = 8.435826969313196\n",
      "PMI[sh,conservatives] = 7.9966700812287215\n",
      "PMI[stupid,conservatives] = 8.118922965980794\n",
      "PMI[created,conservatives] = 8.213951195990571\n",
      "PMI[problem,conservatives] = 8.211075147356581\n",
      "PMI[causing,conservatives] = 8.362149027333205\n",
      "PMI[great,conservatives] = 8.612143531001244\n",
      "PMI[distress,conservatives] = 8.380732238011877\n",
      "PMI[going,conservatives] = 8.12159463199735\n",
      "PMI[throw,conservatives] = 8.352677985566723\n",
      "PMI[us,conservatives] = 8.148288109046257\n",
      "PMI[taxpayer,conservatives] = 8.1657351276543\n",
      "PMI[money,conservatives] = 7.928413265347444\n",
      "PMI[president,conservatives] = 8.091892379402385\n",
      "PMI[stop,conservatives] = 8.269786473319172\n",
      "PMI[fighting,conservatives] = 8.008252221703797\n",
      "PMI[american,conservatives] = 8.044061466519738\n",
      "PMI[people,conservatives] = 8.058603206470591\n",
      "PMI[even,conservatives] = 8.432827671760654\n",
      "PMI[pay,conservatives] = 8.11017060914961\n",
      "PMI[government,conservatives] = 7.927653109381685\n",
      "PMI[lawyer,conservatives] = 8.194414827390391\n",
      "PMI[time,conservatives] = 8.167572480578743\n",
      "PMI[mind,conservatives] = 8.047729467754746\n",
      "PMI[hearing,conservatives] = 8.279864852703495\n",
      "PMI[speak,conservatives] = 8.292283785142645\n",
      "PMI[secretly,conservatives] = 8.53618032000746\n",
      "PMI[taped,conservatives] = 8.49722712787186\n",
      "PMI[discussing,conservatives] = 8.194355403698552\n",
      "PMI[illegal,conservatives] = 8.705361234507835\n"
     ]
    },
    {
     "ename": "TypeError",
     "evalue": "unsupported operand type(s) for *: 'NoneType' and 'int'",
     "output_type": "error",
     "traceback": [
      "\u001b[0;31m---------------------------------------------------------------------------\u001b[0m",
      "\u001b[0;31mTypeError\u001b[0m                                 Traceback (most recent call last)",
      "\u001b[0;32m<ipython-input-101-df56a4174f34>\u001b[0m in \u001b[0;36m<module>\u001b[0;34m()\u001b[0m\n\u001b[0;32m----> 1\u001b[0;31m \u001b[0mPMI\u001b[0m \u001b[0;34m=\u001b[0m \u001b[0mcreate_PMI\u001b[0m\u001b[0;34m(\u001b[0m\u001b[0mwc\u001b[0m\u001b[0;34m,\u001b[0m \u001b[0mwnd\u001b[0m\u001b[0;34m)\u001b[0m\u001b[0;34m\u001b[0m\u001b[0m\n\u001b[0m",
      "\u001b[0;32m<ipython-input-99-6aba8bf03ac6>\u001b[0m in \u001b[0;36mcreate_PMI\u001b[0;34m(wc, wnd)\u001b[0m\n\u001b[1;32m     48\u001b[0m                 \u001b[0;31m#print(\"wnd count found\")\u001b[0m\u001b[0;34m\u001b[0m\u001b[0;34m\u001b[0m\u001b[0m\n\u001b[1;32m     49\u001b[0m \u001b[0;34m\u001b[0m\u001b[0m\n\u001b[0;32m---> 50\u001b[0;31m                 \u001b[0mt\u001b[0m \u001b[0;34m=\u001b[0m \u001b[0mwnd_value_count\u001b[0m \u001b[0;34m*\u001b[0m \u001b[0mlen_d\u001b[0m\u001b[0;34m\u001b[0m\u001b[0m\n\u001b[0m\u001b[1;32m     51\u001b[0m                 \u001b[0mb\u001b[0m \u001b[0;34m=\u001b[0m \u001b[0mwc\u001b[0m\u001b[0;34m[\u001b[0m\u001b[0;34m\"counts\"\u001b[0m\u001b[0;34m]\u001b[0m\u001b[0;34m[\u001b[0m\u001b[0my\u001b[0m\u001b[0;34m]\u001b[0m \u001b[0;34m*\u001b[0m \u001b[0mwc\u001b[0m\u001b[0;34m[\u001b[0m\u001b[0;34m\"counts\"\u001b[0m\u001b[0;34m]\u001b[0m\u001b[0;34m[\u001b[0m\u001b[0mx\u001b[0m\u001b[0;34m]\u001b[0m\u001b[0;34m\u001b[0m\u001b[0m\n\u001b[1;32m     52\u001b[0m                 \u001b[0mfin\u001b[0m \u001b[0;34m=\u001b[0m \u001b[0mmath\u001b[0m\u001b[0;34m.\u001b[0m\u001b[0mlog\u001b[0m\u001b[0;34m(\u001b[0m\u001b[0mt\u001b[0m\u001b[0;34m/\u001b[0m\u001b[0mb\u001b[0m\u001b[0;34m)\u001b[0m\u001b[0;34m\u001b[0m\u001b[0m\n",
      "\u001b[0;31mTypeError\u001b[0m: unsupported operand type(s) for *: 'NoneType' and 'int'"
     ]
    }
   ],
   "source": [
    "PMI = create_PMI(wc, wnd)"
   ]
  },
  {
   "cell_type": "code",
   "execution_count": null,
   "metadata": {},
   "outputs": [],
   "source": []
  }
 ],
 "metadata": {
  "kernelspec": {
   "display_name": "Python 3",
   "language": "python",
   "name": "python3"
  },
  "language_info": {
   "codemirror_mode": {
    "name": "ipython",
    "version": 3
   },
   "file_extension": ".py",
   "mimetype": "text/x-python",
   "name": "python",
   "nbconvert_exporter": "python",
   "pygments_lexer": "ipython3",
   "version": "3.6.5"
  }
 },
 "nbformat": 4,
 "nbformat_minor": 2
}
